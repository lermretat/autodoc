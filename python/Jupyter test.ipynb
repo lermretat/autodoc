{
 "cells": [
  {
   "cell_type": "markdown",
   "metadata": {},
   "source": [
    "## Autodocumentación de código python\n",
    "En este demo vamos a demostrar cómo se autodocumenta en python.\n",
    "\n",
    "Lo primero será definir una clase con una función:"
   ]
  },
  {
   "cell_type": "code",
   "execution_count": 1,
   "metadata": {},
   "outputs": [],
   "source": [
    "class Clase_autodoc:\n",
    "    \n",
    "    def funcion_sin_autodoc(self, texto):\n",
    "        print(\"Érase una vez una función difícil de documentar :(\" )\n",
    "        print(texto)\n",
    "        "
   ]
  },
  {
   "cell_type": "markdown",
   "metadata": {},
   "source": [
    "que luego usaremos instanciando un objeto y llamando a la función"
   ]
  },
  {
   "cell_type": "code",
   "execution_count": 2,
   "metadata": {},
   "outputs": [
    {
     "name": "stdout",
     "output_type": "stream",
     "text": [
      "Érase una vez una función difícil de documentar :(\n",
      "porque tendrás que depender de un documentador\n"
     ]
    }
   ],
   "source": [
    "obj_autodoc = Clase_autodoc()\n",
    "obj_autodoc.funcion_sin_autodoc(\"porque tendrás que depender de un documentador\")"
   ]
  },
  {
   "cell_type": "markdown",
   "metadata": {},
   "source": [
    "podemos hacerlo mejor"
   ]
  },
  {
   "cell_type": "code",
   "execution_count": 3,
   "metadata": {},
   "outputs": [],
   "source": [
    "class Clase_autodoc:\n",
    "    \"\"\"\n",
    "    Esta es una clase con Docstring\n",
    "    agregamos más información de la clase.\n",
    "    \"\"\"\n",
    "    @staticmethod\n",
    "    def funcion_mantenible():\n",
    "        \"\"\"\n",
    "        Esta es una función que puede generar su propia documentación\n",
    "        :param puede recibir parámetros\n",
    "        :return: devuelve un mensaje motivador\n",
    "        \"\"\"\n",
    "        return \"Por tanto, soy mantenible :)\""
   ]
  },
  {
   "cell_type": "markdown",
   "metadata": {},
   "source": [
    "incluir comentarios es útil y mucho más si te ayuda a documentar"
   ]
  },
  {
   "cell_type": "code",
   "execution_count": 4,
   "metadata": {},
   "outputs": [
    {
     "name": "stdout",
     "output_type": "stream",
     "text": [
      "\n",
      "        Esta es una función que puede generar su propia documentación\n",
      "        :param puede recibir parámetros\n",
      "        :return: devuelve un mensaje motivador\n",
      "        \n"
     ]
    },
    {
     "data": {
      "text/plain": [
       "'Por tanto, soy mantenible :)'"
      ]
     },
     "execution_count": 4,
     "metadata": {},
     "output_type": "execute_result"
    }
   ],
   "source": [
    "print(Clase_autodoc.funcion_mantenible.__doc__)\n",
    "Clase_autodoc.funcion_mantenible()"
   ]
  },
  {
   "cell_type": "markdown",
   "metadata": {},
   "source": [
    "Docstring es útil porque:\n",
    "- fácil de usar y definir\n",
    "- fácil de acceder con el atributo \"\\_\\_doc\\_\\_\"\n",
    "\n",
    "### Mejores prácticas\n",
    "- El docstring debe especificar cómo utilizarlo. Debería imprimirse cuando el script se ejecuta con parámetros faltantes o erróneos.\n",
    "- El docstring de un módulo debe listar todas las clases, funciones, excepciones y dependencias de otros módulos.\n",
    "- El docstring de una función de Python debe especificar el comportamiento, los argumentos de entrada, los tipos de retorno y las excepciones. Si hay restricciones específicas cuando la función puede ser llamada, debe ser especificada en el docstring de la función.\n",
    "- El docstring de una clase debe listar todos los métodos y atributos. Si hereda de una superclase, deben proporcionarse los detalles.\n"
   ]
  }
 ],
 "metadata": {
  "interpreter": {
   "hash": "676ccf971904772eb644f7c7a1e14014fa6a3fc84ee685231ced7877d61e1c2c"
  },
  "kernelspec": {
   "display_name": "Python 3.8.12 ('galileo_env')",
   "language": "python",
   "name": "python3"
  },
  "language_info": {
   "codemirror_mode": {
    "name": "ipython",
    "version": 3
   },
   "file_extension": ".py",
   "mimetype": "text/x-python",
   "name": "python",
   "nbconvert_exporter": "python",
   "pygments_lexer": "ipython3",
   "version": "3.8.5"
  },
  "orig_nbformat": 4
 },
 "nbformat": 4,
 "nbformat_minor": 2
}
